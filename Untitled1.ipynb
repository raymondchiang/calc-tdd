{
 "cells": [
  {
   "cell_type": "code",
   "execution_count": 6,
   "metadata": {
    "collapsed": true
   },
   "outputs": [],
   "source": [
    "def split_str(stri):\n",
    "    number=[]\n",
    "    symbol=[]\n",
    "    curr_num=[]\n",
    "    for x in range(len(stri)):\n",
    "        if stri[x]=='-':\n",
    "            if len(curr_num):\n",
    "                symbol+='+'\n",
    "                number+=[''.join(curr_num),]\n",
    "            curr_num=['-']\n",
    "        elif stri[x] in ['+','*','/']:\n",
    "            symbol+=stri[x]\n",
    "            number+=[''.join(curr_num),]\n",
    "            curr_num=[]\n",
    "        else:\n",
    "            curr_num+=stri[x]\n",
    "        if x==len(stri)-1:\n",
    "            number+=[''.join(curr_num),]\n",
    "    return number, symbol"
   ]
  },
  {
   "cell_type": "code",
   "execution_count": 35,
   "metadata": {
    "collapsed": true
   },
   "outputs": [],
   "source": [
    "def str_to_int(lis):\n",
    "    for x in range(len(lis)):\n",
    "        lis[x]=conv_type(lis[x])\n",
    "    return lis\n",
    "\n",
    "def conv_type(number):\n",
    "    if '.' in number:\n",
    "        return float(number)\n",
    "    return int(number)   "
   ]
  },
  {
   "cell_type": "code",
   "execution_count": 38,
   "metadata": {
    "collapsed": false
   },
   "outputs": [],
   "source": [
    "num=[]\n",
    "symbol=[]\n",
    "num,symbol=split_str('30-56.2*-156')"
   ]
  },
  {
   "cell_type": "code",
   "execution_count": 39,
   "metadata": {
    "collapsed": false,
    "scrolled": true
   },
   "outputs": [],
   "source": [
    "num=str_to_int(num)"
   ]
  },
  {
   "cell_type": "code",
   "execution_count": 41,
   "metadata": {
    "collapsed": false
   },
   "outputs": [
    {
     "data": {
      "text/plain": [
       "['+', '*']"
      ]
     },
     "execution_count": 41,
     "metadata": {},
     "output_type": "execute_result"
    }
   ],
   "source": [
    "symbol"
   ]
  },
  {
   "cell_type": "code",
   "execution_count": null,
   "metadata": {
    "collapsed": true
   },
   "outputs": [],
   "source": []
  }
 ],
 "metadata": {
  "kernelspec": {
   "display_name": "Python 3",
   "language": "python",
   "name": "python3"
  },
  "language_info": {
   "codemirror_mode": {
    "name": "ipython",
    "version": 3
   },
   "file_extension": ".py",
   "mimetype": "text/x-python",
   "name": "python",
   "nbconvert_exporter": "python",
   "pygments_lexer": "ipython3",
   "version": "3.5.2"
  }
 },
 "nbformat": 4,
 "nbformat_minor": 0
}
