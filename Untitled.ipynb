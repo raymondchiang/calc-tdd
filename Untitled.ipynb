{
 "cells": [
  {
   "cell_type": "code",
   "execution_count": 37,
   "metadata": {
    "collapsed": false
   },
   "outputs": [],
   "source": [
    "def split_str(stri):\n",
    "    number=[]\n",
    "    symbol=[]\n",
    "    curr_num=[]\n",
    "    for x in range(len(stri)):\n",
    "        if stri[x]=='-':\n",
    "            if len(curr_num):\n",
    "                symbol+='+'\n",
    "                number+=[''.join(curr_num),]\n",
    "            curr_num=['-']\n",
    "        elif stri[x] in ['+','*','/']:\n",
    "            symbol+=stri[x]\n",
    "            number+=[''.join(curr_num),]\n",
    "            curr_num=[]\n",
    "        else:\n",
    "            curr_num+=stri[x]\n",
    "        if x==len(stri)-1:\n",
    "            number+=[''.join(curr_num),]\n",
    "    return number, symbol"
   ]
  },
  {
   "cell_type": "code",
   "execution_count": 48,
   "metadata": {
    "collapsed": false
   },
   "outputs": [
    {
     "name": "stdout",
     "output_type": "stream",
     "text": [
      "['10', '10', '-5', '-6', '-5'] ['*', '*', '*', '*']\n"
     ]
    },
    {
     "data": {
      "text/plain": [
       "[-15000.0]"
      ]
     },
     "execution_count": 48,
     "metadata": {},
     "output_type": "execute_result"
    }
   ],
   "source": [
    "apply= {'+':lambda x,y: (x+y), '*': lambda x,y: (x*y), '/': lambda x,y:(x/y)}\n",
    "\n",
    "n, s = split_str('10*10*-5*-6*-5')\n",
    "print(n,s)\n",
    "n.reverse()\n",
    "s.reverse()\n",
    "while len(n) > 1:\n",
    "    num = n.pop()\n",
    "    n[-1] = apply[s.pop()](float(n[-1]), float(num))\n",
    "n"
   ]
  },
  {
   "cell_type": "code",
   "execution_count": 49,
   "metadata": {
    "collapsed": false
   },
   "outputs": [
    {
     "data": {
      "text/plain": [
       "-15000"
      ]
     },
     "execution_count": 49,
     "metadata": {},
     "output_type": "execute_result"
    }
   ],
   "source": [
    "eval('10*10*-5*-6*-5')"
   ]
  },
  {
   "cell_type": "code",
   "execution_count": null,
   "metadata": {
    "collapsed": true
   },
   "outputs": [],
   "source": []
  }
 ],
 "metadata": {
  "kernelspec": {
   "display_name": "Python 3",
   "language": "python",
   "name": "python3"
  },
  "language_info": {
   "codemirror_mode": {
    "name": "ipython",
    "version": 3
   },
   "file_extension": ".py",
   "mimetype": "text/x-python",
   "name": "python",
   "nbconvert_exporter": "python",
   "pygments_lexer": "ipython3",
   "version": "3.5.2"
  }
 },
 "nbformat": 4,
 "nbformat_minor": 0
}
